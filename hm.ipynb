{
 "cells": [
  {
   "cell_type": "code",
   "execution_count": null,
   "id": "7e3083d5",
   "metadata": {},
   "outputs": [],
   "source": [
    "\n",
    "import numpy as np\n",
    "import unittest\n",
    "import pandas as pd\n",
    "import matplotlib.pyplot as plt\n",
    "from sklearn.cluster import KMeans\n",
    "from sklearn.linear_model import LinearRegression\n",
    "from sklearn.neural_network import MLPRegressor\n"
   ]
  },
  {
   "cell_type": "markdown",
   "id": "306f87f4",
   "metadata": {},
   "source": [
    "Initialize customers, transactions_train, and articles as dataframes"
   ]
  },
  {
   "cell_type": "code",
   "execution_count": null,
   "id": "91aa2c41",
   "metadata": {},
   "outputs": [],
   "source": [
    "# initialize customers data as a dataframe\n",
    "customers = pd.read_csv('customers.csv', header=0)\n",
    "customers = pd.DataFrame(customers).fillna(0)"
   ]
  },
  {
   "cell_type": "code",
   "execution_count": null,
   "id": "842bbd42",
   "metadata": {},
   "outputs": [],
   "source": [
    "# set club_member_status values equal to ACTIVE equal to 1.0\n",
    "customers.loc[customers[\"club_member_status\"] == \"ACTIVE\", \"Active\"] = 1.0\n",
    "# set club_member_status values not equal to ACTIVE equal to 0.0\n",
    "customers.loc[customers[\"club_member_status\"] != \"ACTIVE\", \"Active\"] = 0.0\n",
    "# delete club_member_status, fashion_news_frequency\n",
    "del customers[\"club_member_status\"]\n",
    "del customers[\"fashion_news_frequency\"]"
   ]
  },
  {
   "cell_type": "code",
   "execution_count": null,
   "id": "dbe9299e",
   "metadata": {},
   "outputs": [],
   "source": [
    "tt = pd.read_csv('transactions_train.csv', header=0)\n",
    "tt = pd.DataFrame(tt)\n",
    "tt.t_dat = pd.to_datetime(tt.t_dat)"
   ]
  },
  {
   "cell_type": "code",
   "execution_count": null,
   "id": "13056687",
   "metadata": {},
   "outputs": [],
   "source": [
    "art = pd.read_csv('articles.csv', header=0)\n",
    "art = pd.DataFrame(art)"
   ]
  },
  {
   "cell_type": "markdown",
   "id": "3551a118",
   "metadata": {},
   "source": [
    "Split transactions_train into training and testing data"
   ]
  },
  {
   "cell_type": "code",
   "execution_count": null,
   "id": "0d98cd8b",
   "metadata": {},
   "outputs": [],
   "source": [
    "# get first index of purchases 7 days before the last purchase in transactions_train\n",
    "index = tt[tt['t_dat'] == '2020-09-15'].index[0]"
   ]
  },
  {
   "cell_type": "code",
   "execution_count": null,
   "id": "8978c5e0",
   "metadata": {},
   "outputs": [],
   "source": [
    "# create a new dataframe including only these 7 days\n",
    "test = tt[index:]"
   ]
  },
  {
   "cell_type": "code",
   "execution_count": null,
   "id": "cbd072af",
   "metadata": {},
   "outputs": [],
   "source": [
    "# create train dataframe by including all data from transactions_train up to the last day before 7 days before the present\n",
    "train = tt[0:index]"
   ]
  },
  {
   "cell_type": "markdown",
   "id": "3008ef31",
   "metadata": {},
   "source": [
    "Add average price feature to each customer in customers data"
   ]
  },
  {
   "cell_type": "code",
   "execution_count": null,
   "id": "c52c17c0",
   "metadata": {},
   "outputs": [],
   "source": [
    "rev = train.groupby(['customer_id'])['price'].mean().reset_index()"
   ]
  },
  {
   "cell_type": "code",
   "execution_count": null,
   "id": "82b5f5a5",
   "metadata": {},
   "outputs": [],
   "source": [
    "customers = customers.merge(rev, on='customer_id')"
   ]
  },
  {
   "cell_type": "markdown",
   "id": "0c4db75b",
   "metadata": {},
   "source": [
    "Add recency feature to each customer in customers data"
   ]
  },
  {
   "cell_type": "code",
   "execution_count": null,
   "id": "64f24cbc",
   "metadata": {},
   "outputs": [],
   "source": [
    "# find most recent purchase date for each customer in training data\n",
    "customers_max_date = train.groupby(['customer_id'])['t_dat'].max().reset_index()\n",
    "customers_max_date.columns = ['customer_id','max_purchase_date']\n"
   ]
  },
  {
   "cell_type": "code",
   "execution_count": null,
   "id": "c74ea5bb",
   "metadata": {},
   "outputs": [],
   "source": [
    "# calculate number of days between most recent purchase date and the \"present\",\n",
    "# which is the maximum date in the training data\n",
    "\n",
    "# last day in training data\n",
    "maxDay = train['t_dat'].max()\n",
    "# difference between last day in training data and most recent purchase by customer\n",
    "customers_max_date['recency'] = (maxDay - customers_max_date['max_purchase_date']).dt.days"
   ]
  },
  {
   "cell_type": "code",
   "execution_count": null,
   "id": "edfb3f1e",
   "metadata": {},
   "outputs": [],
   "source": [
    "# merge recency column of customers_max_date DataFrame with customers DataFrame, aligning rows by customer_id\n",
    "customers = customers.merge(customers_max_date.drop('max_purchase_date', axis=1), on='customer_id')"
   ]
  },
  {
   "cell_type": "markdown",
   "id": "1b83a7e1",
   "metadata": {},
   "source": [
    "Add frequency feature to each customer in customers data"
   ]
  },
  {
   "cell_type": "code",
   "execution_count": null,
   "id": "027dc89e",
   "metadata": {},
   "outputs": [],
   "source": [
    "# get purchase counts for each customer and use to create a DataFrame\n",
    "freq = train.groupby('customer_id').t_dat.count().reset_index()\n",
    "freq.columns = ['customer_id','frequency']"
   ]
  },
  {
   "cell_type": "code",
   "execution_count": null,
   "id": "d0dace56",
   "metadata": {},
   "outputs": [],
   "source": [
    "# add frequency column from freq DataFrame to customers DataFrame, aligning rows by customer_id \n",
    "customers = pd.merge(customers, freq, on='customer_id')"
   ]
  },
  {
   "cell_type": "markdown",
   "id": "0f2b0ea9",
   "metadata": {},
   "source": [
    "Add popularity feature to each customer in customers data. Based on k segments of timeframes in the total training data's time, how susceptible is a customer to that segment's most popular items?"
   ]
  },
  {
   "cell_type": "code",
   "execution_count": null,
   "id": "ce51aade",
   "metadata": {},
   "outputs": [],
   "source": [
    "# first break up training data into k segments of time\n",
    "\n",
    "# If K = 29 days, then there are 25 29-day segments in the 725 total days in the training data\n",
    "(train['t_dat'].max() - train['t_dat'].min()).days / 29\n"
   ]
  },
  {
   "cell_type": "code",
   "execution_count": null,
   "id": "2323e8d9",
   "metadata": {},
   "outputs": [],
   "source": [
    "# segment dates by roughly one-month segments\n",
    "dates = [['2018-09-19', '2018-10-20'], ['2018-10-20', '2018-11-20'], ['2018-11-20', '2018-12-20'],\n",
    "        ['2018-12-20', '2019-01-20'], ['2019-01-20', '2019-02-20'], ['2019-02-20', '2019-03-20'], \n",
    "        ['2019-03-20', '2019-04-20'], ['2019-04-20', '2019-05-20'], ['2019-05-20', '2019-06-20'], \n",
    "        ['2019-06-20', '2019-07-20'], ['2019-07-20', '2019-08-20'], ['2019-08-20', '2019-09-20'],\n",
    "        ['2019-09-20', '2019-10-20'], ['2019-10-20', '2019-11-20'], ['2019-11-20', '2019-12-20'],\n",
    "        ['2019-12-20', '2020-01-20'], ['2020-01-20', '2020-02-20'], ['2020-02-20', '2020-03-20'],\n",
    "        ['2020-03-20', '2020-04-20'], ['2020-04-20', '2020-05-20'], ['2020-05-20', '2020-06-20'],\n",
    "        ['2020-06-20', '2020-07-20'], ['2020-07-20', '2020-08-20'], ['2020-08-20', '2020-09-20']]\n",
    "dfArr = []\n",
    "for x in dates:\n",
    "    mask = (train['t_dat'] > x[0]) & (train['t_dat'] <= x[1])\n",
    "    dfArr.append(train.loc[mask])"
   ]
  },
  {
   "cell_type": "code",
   "execution_count": null,
   "id": "e208809f",
   "metadata": {},
   "outputs": [],
   "source": [
    "# find most popular items in each segment\n",
    "popularity = []\n",
    "for x in dfArr:\n",
    "    pop = pd.DataFrame(x.groupby('article_id').t_dat.count().sort_values(ascending=False))\n",
    "    pop.columns = ['popular']\n",
    "    pop.reset_index()\n",
    "    popularity.append(pop.reset_index())\n",
    "popularity[0]"
   ]
  },
  {
   "cell_type": "code",
   "execution_count": null,
   "id": "b097b091",
   "metadata": {},
   "outputs": [],
   "source": [
    "# list of top k articles in each segment\n",
    "topKArticles = []\n",
    "k = 10\n",
    "for x in popularity:\n",
    "    topKArticles.append(x['article_id'][0:k])"
   ]
  },
  {
   "cell_type": "code",
   "execution_count": null,
   "id": "f21fa089",
   "metadata": {},
   "outputs": [],
   "source": [
    "topKArticles[0]"
   ]
  },
  {
   "cell_type": "code",
   "execution_count": null,
   "id": "412b1016",
   "metadata": {},
   "outputs": [],
   "source": [
    "# of the clothes a customer buys in a given time segment, how many are in the list of the\n",
    "# topKArticles of clothing? In other words, how many of a customer's purchases are aligned with\n",
    "# the most popular items?\n",
    "\n",
    "segments = []\n",
    "for x in dfArr:\n",
    "\tdf = pd.DataFrame(x.groupby('customer_id').article_id)\n",
    "\tdf.columns = ['customer_id', 'articles']\n",
    "\tfreq = x.groupby('customer_id').t_dat.count().reset_index()\n",
    "\tfreq.columns = ['customer_id','frequency']\n",
    "\tdf = pd.merge(df, freq, on='customer_id')\n",
    "\tsegments.append(df)\n",
    "\n"
   ]
  },
  {
   "cell_type": "code",
   "execution_count": null,
   "id": "b9267cab",
   "metadata": {},
   "outputs": [],
   "source": [
    "for i in range(len(topKArticles)):\n",
    "\tarr = []\n",
    "\tfor x in segments[i]['articles']:\n",
    "\t\tarr.append(x[x.isin(topKArticles[i]) == True].count())\n",
    "\tsegments[i]['num_pop'] = arr\n",
    "\tsegments[i]['pop_fraction'] = segments[i]['num_pop'] / segments[i]['frequency']"
   ]
  },
  {
   "cell_type": "code",
   "execution_count": null,
   "id": "47a9e5d5",
   "metadata": {},
   "outputs": [],
   "source": [
    "customersTestDf = pd.DataFrame(customers['customer_id'].copy(deep=True))\n",
    "for i in range(0,len(segments)):\n",
    "\tcustomersTestDf = pd.merge(customersTestDf,segments[i][['customer_id','pop_fraction']],on='customer_id', how='left', suffixes=(i, i+1)).fillna(0)"
   ]
  },
  {
   "cell_type": "code",
   "execution_count": null,
   "id": "db2e577c",
   "metadata": {},
   "outputs": [],
   "source": [
    "for i in range(len(segments) - 1):\n",
    "\tcustomersTestDf['pop_fraction1'] += customersTestDf['pop_fraction' + str(i + 2)]"
   ]
  },
  {
   "cell_type": "code",
   "execution_count": null,
   "id": "5f98cee0",
   "metadata": {},
   "outputs": [],
   "source": [
    "customers['pop_fraction'] = customersTestDf['pop_fraction1'] / len(segments)"
   ]
  },
  {
   "cell_type": "code",
   "execution_count": null,
   "id": "5b678b87",
   "metadata": {},
   "outputs": [],
   "source": [
    "\n",
    "# the top 100 articles comprise roughly 8% of the first segments total purchases\n",
    "for x in popularity:\n",
    "    print((x['popular'][0:50].sum() / pop['popular'].sum()) * 100)"
   ]
  },
  {
   "cell_type": "code",
   "execution_count": null,
   "id": "8b89eec0",
   "metadata": {},
   "outputs": [],
   "source": [
    "def optimize_k_means(data, max_k):\n",
    "    means = []\n",
    "    inertias = []\n",
    "    \n",
    "    for k in range(1, max_k):\n",
    "        kmeans = KMeans(n_clusters=k)\n",
    "        kmeans.fit(data)\n",
    "        \n",
    "        means.append(k)\n",
    "        inertias.append(kmeans.inertia_)\n",
    "        \n",
    "    fig = plt.subplots(figsize=(10,5))\n",
    "    plt.plot(means, inertias, 'o-')\n",
    "    plt.xlabel('Number of Clusters')\n",
    "    plt.ylabel('Inertia')\n",
    "    plt.grid(True)\n",
    "    plt.show()"
   ]
  },
  {
   "cell_type": "code",
   "execution_count": null,
   "id": "b6261702",
   "metadata": {},
   "outputs": [],
   "source": [
    "optimize_k_means(customers[['pop_fraction']], 10)\n",
    "optimize_k_means(customers[['recency']], 10)\n",
    "optimize_k_means(customers[['frequency']], 10)\n",
    "optimize_k_means(customers[['price']], 10)"
   ]
  },
  {
   "cell_type": "code",
   "execution_count": null,
   "id": "187534fd",
   "metadata": {},
   "outputs": [],
   "source": [
    "kmeansOne = KMeans(n_clusters=3)\n",
    "kmeansTwo = KMeans(n_clusters=2)\n",
    "kmeansThree = KMeans(n_clusters=3)\n",
    "kmeansFour = KMeans(n_clusters=3)\n",
    "kmeansOne.fit(customers[['pop_fraction']])\n",
    "kmeansTwo.fit(customers[['recency']])\n",
    "kmeansThree.fit(customers[['frequency']])\n",
    "kmeansFour.fit(customers[['price']])\n",
    "customers['pop_fraction_cluster'] = kmeansOne.predict(customers[['pop_fraction']])\n",
    "customers['recency_cluster'] = kmeansTwo.predict(customers[['recency']])\n",
    "customers['frequency_cluster'] = kmeansThree.predict(customers[['frequency']])\n",
    "customers['price_cluster'] = kmeansFour.predict(customers[['price']])"
   ]
  },
  {
   "cell_type": "markdown",
   "id": "80fa0774",
   "metadata": {},
   "source": [
    "Train prediction model"
   ]
  },
  {
   "cell_type": "code",
   "execution_count": null,
   "id": "329107f9",
   "metadata": {},
   "outputs": [],
   "source": [
    "testTwo = pd.DataFrame(test.groupby('customer_id').article_id)\n",
    "testTwo.columns = ['customer_id', 'articles_labels']\n"
   ]
  },
  {
   "cell_type": "code",
   "execution_count": null,
   "id": "eacb2af1",
   "metadata": {},
   "outputs": [],
   "source": [
    "customersTwo = pd.merge(customers,testTwo[['customer_id','articles_labels']],on='customer_id', how='left')\n",
    "del customersTwo['postal_code']\n",
    "customersTwo = customersTwo[~customersTwo['articles_labels'].isna()].reset_index()"
   ]
  },
  {
   "cell_type": "code",
   "execution_count": null,
   "id": "9bfe3ae0",
   "metadata": {},
   "outputs": [],
   "source": [
    "for y in range(len(customersTwo['articles_labels'])):\n",
    "\ttest = customersTwo['articles_labels'][y]\n",
    "\tdf = pd.DataFrame(art['article_id'])\n",
    "\tdf['vals'] = 0\n",
    "\tcount = 0\n",
    "\tfor x in test:\n",
    "\t\tdf.loc[df['article_id'] == x, 'vals'] = 1\n",
    "\t\tcount += 1\n",
    "\tcustomersTwo['articles_labels'][y] = df['vals'] / count"
   ]
  },
  {
   "cell_type": "code",
   "execution_count": null,
   "id": "a6f84aa7",
   "metadata": {},
   "outputs": [],
   "source": [
    "customersTwo['articles_labels'][4].describe()"
   ]
  },
  {
   "cell_type": "code",
   "execution_count": null,
   "id": "0688a290",
   "metadata": {},
   "outputs": [],
   "source": [
    "X = np.array(customersTwo.iloc[0:5000,2:13])\n"
   ]
  },
  {
   "cell_type": "code",
   "execution_count": null,
   "id": "63fff201",
   "metadata": {},
   "outputs": [],
   "source": [
    "# initialize a matrix of zeros of (n_samples, n_articles) shape\n",
    "Y = np.stack(np.array((customersTwo.iloc[0:5000,13])))\n"
   ]
  },
  {
   "cell_type": "code",
   "execution_count": null,
   "id": "6b9732d0",
   "metadata": {},
   "outputs": [],
   "source": [
    "XTwo = np.array(customersTwo.iloc[5000:6000,2:13])"
   ]
  },
  {
   "cell_type": "code",
   "execution_count": null,
   "id": "3ba31f9e",
   "metadata": {},
   "outputs": [],
   "source": [
    "YTwo = np.stack(np.array((customersTwo.iloc[5000:6000,13])))"
   ]
  },
  {
   "cell_type": "code",
   "execution_count": null,
   "id": "ee09d28e",
   "metadata": {},
   "outputs": [],
   "source": [
    "reg = LinearRegression().fit(X, Y)\n",
    "reg.score(XTwo, YTwo)"
   ]
  },
  {
   "cell_type": "code",
   "execution_count": null,
   "id": "d2e79ca1",
   "metadata": {},
   "outputs": [],
   "source": [
    "regr = MLPRegressor(random_state=1, max_iter=500).fit(X, Y)\n",
    "regr.score(XTwo, YTwo)"
   ]
  }
 ],
 "metadata": {
  "interpreter": {
   "hash": "b0fa6594d8f4cbf19f97940f81e996739fb7646882a419484c72d19e05852a7e"
  },
  "kernelspec": {
   "display_name": "Python 3.9.9 64-bit",
   "language": "python",
   "name": "python3"
  },
  "language_info": {
   "codemirror_mode": {
    "name": "ipython",
    "version": 3
   },
   "file_extension": ".py",
   "mimetype": "text/x-python",
   "name": "python",
   "nbconvert_exporter": "python",
   "pygments_lexer": "ipython3",
   "version": "3.9.9"
  }
 },
 "nbformat": 4,
 "nbformat_minor": 5
}
